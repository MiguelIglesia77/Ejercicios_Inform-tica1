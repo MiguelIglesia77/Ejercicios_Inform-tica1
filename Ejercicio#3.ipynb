{
 "cells": [
  {
   "cell_type": "code",
   "execution_count": 7,
   "metadata": {},
   "outputs": [
    {
     "name": "stdout",
     "output_type": "stream",
     "text": [
      "A es igual que B\n"
     ]
    }
   ],
   "source": [
    "A=input(\"Digite un número:\")\n",
    "B=input(\"Digite un número:\")\n",
    "if A>B:\n",
    "    print(\"A es mayor que B\")\n",
    "if A<B:\n",
    "    print(\"A es menor que B\")\n",
    "if A==B:\n",
    "    print(\"A es igual que B\")\n"
   ]
  },
  {
   "cell_type": "code",
   "execution_count": 11,
   "metadata": {},
   "outputs": [
    {
     "name": "stdout",
     "output_type": "stream",
     "text": [
      "Aprobó\n",
      "3.23\n"
     ]
    }
   ],
   "source": [
    "Nota1=float(input(\"Ingrese la nota que vale 30%:\"))\n",
    "Nota2=float(input(\"Ingrese la nota que vale 15%:\"))\n",
    "Nota3=float(input(\"Ingrese la segunda nota que vale 15%:\"))\n",
    "Nota4=float(input(\"Ingrese la nota que vale 20%:\"))\n",
    "Nota5=float(input(\"Ingrese la segunda nota que vale 20%:\"))\n",
    "Total=float((Nota1*0.3)+(Nota2*0.15)+(Nota3*0.15)+(Nota4*0.2)+(Nota5*0.2))\n",
    "if Total>=3.0:\n",
    "    print(\"Aprobó\")\n",
    "else:\n",
    "    print(\"Reprobó\")\n",
    "print(Total)"
   ]
  },
  {
   "cell_type": "code",
   "execution_count": 13,
   "metadata": {},
   "outputs": [
    {
     "name": "stdout",
     "output_type": "stream",
     "text": [
      "X=1\n"
     ]
    }
   ],
   "source": [
    "Y=int(input(\"Digite un número:\"))\n",
    "Z=int(input(\"Digite un número:\"))\n",
    "if Y>Z:\n",
    "    print(\"X=1\")\n",
    "if Y==Z:\n",
    "    print(\"X=2\")\n",
    "if Y<Z:\n",
    "    print(\"X=3\")"
   ]
  },
  {
   "cell_type": "code",
   "execution_count": 18,
   "metadata": {},
   "outputs": [
    {
     "name": "stdout",
     "output_type": "stream",
     "text": [
      "5\n",
      "2\n",
      "-5\n"
     ]
    }
   ],
   "source": [
    "X=int(input(\"Digite un número:\"))\n",
    "Y=int(input(\"Digite un número diferente al anterior:\"))\n",
    "Z=int(input(\"Digite un número diferente a los anteriores:\"))\n",
    "if X>Y and X>Z:\n",
    "    print(X)\n",
    "    if Y>Z:\n",
    "        print(Y)\n",
    "        print(Z) \n",
    "    else:\n",
    "        print(Z)\n",
    "        print(Y) \n",
    "elif Y>X and Y>Z:\n",
    "    print(Y)\n",
    "    if X>Z:\n",
    "        print(X)\n",
    "        print(Z) \n",
    "    else:\n",
    "        print(Z)\n",
    "        print(X)\n",
    "else:\n",
    "    print(Z)\n",
    "    if Y>X:\n",
    "        print(Y)\n",
    "        print(X)\n",
    "    else:\n",
    "        print(X)\n",
    "        print(Y)"
   ]
  },
  {
   "cell_type": "code",
   "execution_count": 3,
   "metadata": {},
   "outputs": [
    {
     "name": "stdout",
     "output_type": "stream",
     "text": [
      "Número de registro:s7af4d\n",
      "Nombre del estudiante:Juanito Alcachofa\n",
      "El valor a pagar es: 950000.0\n"
     ]
    }
   ],
   "source": [
    "X= input(\"Digite su número de inscripción:\") \n",
    "Y=input(\"Ingrese su nombre:\")\n",
    "Z=int(input(\"Ingrese su patrimonio\"))\n",
    "W=int(input(\"¿Qué estrato es usted?\"))\n",
    "print(\"Número de registro:{n}\" .format(n=X))\n",
    "print(\"Nombre del estudiante:{x}\" .format(x=Y))\n",
    "if Z>=(2000000) and W>=(3):\n",
    "    R=(50000+(Z*0.3))\n",
    "    print(\"El valor a pagar es: {r}\".format(r=R))\n",
    "else:\n",
    "    print(\"El valor a pagar es: 50000\")\n"
   ]
  },
  {
   "cell_type": "code",
   "execution_count": 2,
   "metadata": {},
   "outputs": [
    {
     "name": "stdout",
     "output_type": "stream",
     "text": [
      "La esfera con mayor densidad es la 1 \n",
      " La densidad de esta esfera es de 7.0 kg/m^3\n"
     ]
    }
   ],
   "source": [
    "a=float(input(\"Ingrese la masa en kg de la esfera1:\"))\n",
    "b=float(input(\"Ingrese el volumen en metros cúbicos de la esfera1:\"))\n",
    "X=(a/b)\n",
    "c=float(input(\"Ingrese la masa en kg de la esfera2:\"))\n",
    "d=float(input(\"Ingrese el volumen en metros cúbicos de la esfera2:\"))\n",
    "Y=(c/d)\n",
    "e=float(input(\"Ingrese la masa en kg de la esfera3:\"))\n",
    "f=float(input(\"Ingrese el volumen en metros cúbicos de la esfera3:\"))\n",
    "Z=(e/f)\n",
    "if X>Y and X>Z:\n",
    "    print(\"La esfera con mayor densidad es la 1 \\n La densidad de esta esfera es de {n} kg/m^3\" .format(n=X))\n",
    "elif Y>X and Y>Z:\n",
    "    print(\"La esfera con mayor densidad es la 2 \\n La densidad de esta esfera es de {m} kg/m^3\" .format(m=Y))\n",
    "else:\n",
    "    print(\"La esfera con mayor densidad es la 3 \\n La densidad de esta esfera es de {p} kg/m^3\" .format(p=Z))"
   ]
  },
  {
   "cell_type": "code",
   "execution_count": 4,
   "metadata": {},
   "outputs": [
    {
     "name": "stdout",
     "output_type": "stream",
     "text": [
      "10.0\n"
     ]
    }
   ],
   "source": [
    "A=float(input(\"Digite un número:\"))\n",
    "B=float(input(\"Digite otro número:\"))\n",
    "C=float(input(\"Digite otro número:\"))\n",
    "D=float(input(\"Digite otro número:\"))\n",
    "Menor= min(A,B,C,D)\n",
    "Mayor= max(A,B,C,D)\n",
    "print(Menor+Mayor)"
   ]
  }
 ],
 "metadata": {
  "kernelspec": {
   "display_name": "Python 3",
   "language": "python",
   "name": "python3"
  },
  "language_info": {
   "codemirror_mode": {
    "name": "ipython",
    "version": 3
   },
   "file_extension": ".py",
   "mimetype": "text/x-python",
   "name": "python",
   "nbconvert_exporter": "python",
   "pygments_lexer": "ipython3",
   "version": "3.12.5"
  }
 },
 "nbformat": 4,
 "nbformat_minor": 2
}
