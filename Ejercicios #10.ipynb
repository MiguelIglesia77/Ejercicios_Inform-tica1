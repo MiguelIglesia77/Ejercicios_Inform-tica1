{
 "cells": [
  {
   "cell_type": "code",
   "execution_count": 4,
   "metadata": {},
   "outputs": [
    {
     "name": "stdout",
     "output_type": "stream",
     "text": [
      "9\n",
      "3\n",
      "25\n",
      "3.0\n"
     ]
    }
   ],
   "source": [
    "def suma(a,b):\n",
    "    print(a+b)\n",
    "    return suma\n",
    "def resta(a,b):\n",
    "    print(a-b)\n",
    "    return resta\n",
    "def multiplicación(a,b):\n",
    "    print(a*b)\n",
    "    return multiplicación\n",
    "def división(a,b):\n",
    "    print(a/b)\n",
    "    return división\n",
    "while True:\n",
    "    x=int(input(\"1- Suma. \\n2-Resta. \\n3-Multiplicación. \\n4-División. \\n5-Salir\"))\n",
    "    if x==1:\n",
    "        a=int(input(\"Ingrese un número: \"))\n",
    "        b=int(input(\"Ingrese un número: \"))\n",
    "        suma(a,b)\n",
    "    elif x==2:\n",
    "        a=int(input(\"Ingrese un número: \"))\n",
    "        b=int(input(\"Ingrese un número: \"))\n",
    "        resta(a,b)\n",
    "    elif x==3:\n",
    "        a=int(input(\"Ingrese un número: \"))\n",
    "        b=int(input(\"Ingrese un número: \"))\n",
    "        multiplicación(a,b)\n",
    "    elif x==4:\n",
    "        a=int(input(\"Ingrese un número: \"))\n",
    "        b=int(input(\"Ingrese un número: \"))\n",
    "        división(a,b)\n",
    "    elif x==5:\n",
    "        break\n",
    "    else:\n",
    "        print(\"Ingrese una opción correcta: \")\n",
    "        continue\n"
   ]
  },
  {
   "cell_type": "code",
   "execution_count": 4,
   "metadata": {},
   "outputs": [
    {
     "name": "stdout",
     "output_type": "stream",
     "text": [
      "El lado a del triángulo es: \n",
      "5.0\n",
      "El lado b del triángulo es: \n",
      "3.0\n",
      "El lado c del triángulo es: \n",
      "4.358898943540673\n",
      "El ángulo A del triángulo es: \n",
      "83.41322444637055\n",
      "El ángulo B del triángulo es: \n",
      "36.58677555362945\n",
      "El ángulo C del triángulo es: \n",
      "59.99999999999999\n",
      "El lado a del triángulo es: \n",
      "7.660444431189781\n",
      "El lado b del triángulo es: \n",
      "9.848077530122081\n",
      "El lado c del triángulo es: \n",
      "5.0\n",
      "El ángulo A del triángulo es: \n",
      "50.0\n",
      "El ángulo B del triángulo es: \n",
      "100.0\n",
      "El ángulo C del triángulo es: \n",
      "29.999999999999996\n"
     ]
    }
   ],
   "source": [
    "from math import sin\n",
    "from math import cos\n",
    "from math import asin\n",
    "from math import acos\n",
    "from math import pi\n",
    "while True:\n",
    "    x=int(input(\"¿Con qué datos del triángulo cuenta? \\n1-Lado-Ángulo-Lado. \\n2-Ángulo-Lado-Ángulo. \\n3-salir\"))\n",
    "    if x==1:\n",
    "        a=float(input(\"Ingrese la magnitud del lado a: \\n\"))\n",
    "        b=float(input(\"Ingrese la magnitud del lado b: \\n\"))\n",
    "        Z=float(input(\"Ingrese el valor del ángulo C\"))\n",
    "        C= (Z*(pi/180))\n",
    "        c=float(((a**2)+(b**2)-2*a*b*cos(C))**(1/2))\n",
    "        A=acos(((b**2)+(c**2)-(a**2))/(2*c*b))\n",
    "        B=acos(((a**2)+(c**2)-(b**2))/(2*a*c))\n",
    "        print(\"El lado a del triángulo es: \\n{m}\".format(m=a))\n",
    "        print(\"El lado b del triángulo es: \\n{n}\".format(n=b))\n",
    "        print(\"El lado c del triángulo es: \\n{p}\".format(p=c))\n",
    "        print(\"El ángulo A del triángulo es: \\n{o}\".format(o=A*(180/pi)))\n",
    "        print(\"El ángulo B del triángulo es: \\n{i}\".format(i=B*(180/pi)))\n",
    "        print(\"El ángulo C del triángulo es: \\n{u}\".format(u=C*(180/pi)))\n",
    "    elif x==2:\n",
    "        Z=float(input(\"Ingrese el valor del ángulo C\"))\n",
    "        C= (Z*(pi/180))\n",
    "        V=float(input(\"Ingrese el valor del ángulo A\"))\n",
    "        A= (V*(pi/180))\n",
    "        c=float(input(\"Ingrese la magnitud del lado c: \\n\"))\n",
    "        a=((c)*(sin(A)))/(sin(C))\n",
    "        M=180-(Z+V)\n",
    "        B=(M*(pi/180))\n",
    "        b=((c)*(sin(B)))/(sin(C))\n",
    "        print(\"El lado a del triángulo es: \\n{m}\".format(m=a))\n",
    "        print(\"El lado b del triángulo es: \\n{n}\".format(n=b))\n",
    "        print(\"El lado c del triángulo es: \\n{p}\".format(p=c))\n",
    "        print(\"El ángulo A del triángulo es: \\n{o}\".format(o=A*(180/pi)))\n",
    "        print(\"El ángulo B del triángulo es: \\n{i}\".format(i=B*(180/pi)))\n",
    "        print(\"El ángulo C del triángulo es: \\n{u}\".format(u=C*(180/pi)))\n",
    "    elif x==3:\n",
    "        break\n",
    "    else: \n",
    "        print(\"Ingresse una opción válida.\")\n",
    "\n",
    "\n"
   ]
  },
  {
   "cell_type": "code",
   "execution_count": 7,
   "metadata": {},
   "outputs": [
    {
     "name": "stdout",
     "output_type": "stream",
     "text": [
      "Nombre: Puka\n",
      "ID: 1\n",
      "Fecha de Nacimiento: 30-03-2020\n",
      "Edad: 4\n",
      "EPS: m\n",
      "Nombre: Logan\n",
      "ID: 2\n",
      "Fecha de Nacimiento: 30-03-2022\n",
      "Edad: 2\n",
      "EPS: m\n",
      "[[('Puka', 1, datetime.datetime(2020, 3, 30, 0, 0), 4, 'm')], [('Logan', 2, datetime.datetime(2022, 3, 30, 0, 0), 2, 'm')]]\n"
     ]
    }
   ],
   "source": [
    "from datetime import datetime\n",
    "LP=[]\n",
    "def buscar_paciente_por_id(LP, id_paciente):\n",
    "    for paciente in LP:\n",
    "        for tupla in paciente:\n",
    "            if tupla[1] == id_paciente:\n",
    "                print(f\"Nombre: {tupla[0]}\")\n",
    "                print(f\"ID: {tupla[1]}\")\n",
    "                print(f\"Fecha de Nacimiento: {tupla[2].strftime('%d-%m-%Y')}\")\n",
    "                print(f\"Edad: {tupla[3]}\")\n",
    "                print(f\"EPS: {tupla[4]}\")\n",
    "                return\n",
    "    print(\"Paciente no encontrado\")\n",
    "while True:\n",
    "    x=int(input(\"Menú: \\n1-Ingresar nuevo paciente.\\n2-Buscar un paciente.\\n3-salir.\"))\n",
    "    if x==1:\n",
    "        paciente=[]\n",
    "        Nombre=input(\"Ingrese el nombre del paciente: \")\n",
    "        ID=int(input(\"Ingrese el ID del paciente\"))\n",
    "        Fecha_De_Nacimiento=input(\"Ingrese la fecha en formato DD-MM-YYYY\")\n",
    "        formato= \"%d-%m-%Y\"\n",
    "        fecha=datetime.strptime(Fecha_De_Nacimiento,formato)\n",
    "        edad=int(input(\"Ingrese la edad del paciente: \"))\n",
    "        eps=input(\"Ingrese la eps del paciente: \")\n",
    "        p1=(Nombre,ID,fecha,edad,eps)\n",
    "        paciente.append(p1)\n",
    "        LP.append(paciente)\n",
    "    elif x==2:\n",
    "        id_paciente=int(input(\"Ingrese la ID del paciente que desea buscar: \"))\n",
    "        buscar_paciente_por_id(LP,id_paciente)\n",
    "    elif x==3:\n",
    "        print(LP)\n",
    "        break\n",
    "    else:\n",
    "        print(\"Ingrese una opción válida\")"
   ]
  },
  {
   "cell_type": "code",
   "execution_count": 1,
   "metadata": {},
   "outputs": [
    {
     "name": "stdout",
     "output_type": "stream",
     "text": [
      "La fecha del día siguiente es: 31/3/2007\n",
      "La fecha del día siguiente es: 29/2/2008\n"
     ]
    },
    {
     "ename": "IndexError",
     "evalue": "list index out of range",
     "output_type": "error",
     "traceback": [
      "\u001b[1;31m---------------------------------------------------------------------------\u001b[0m",
      "\u001b[1;31mIndexError\u001b[0m                                Traceback (most recent call last)",
      "Cell \u001b[1;32mIn[1], line 32\u001b[0m\n\u001b[0;32m     30\u001b[0m             \u001b[38;5;28mprint\u001b[39m(\u001b[38;5;124m\"\u001b[39m\u001b[38;5;124m¡Adiós!\u001b[39m\u001b[38;5;124m\"\u001b[39m)\n\u001b[0;32m     31\u001b[0m             \u001b[38;5;28;01mbreak\u001b[39;00m\n\u001b[1;32m---> 32\u001b[0m \u001b[43mcalcular_fecha\u001b[49m\u001b[43m(\u001b[49m\u001b[43m)\u001b[49m\n",
      "Cell \u001b[1;32mIn[1], line 26\u001b[0m, in \u001b[0;36mcalcular_fecha\u001b[1;34m()\u001b[0m\n\u001b[0;32m     24\u001b[0m mes \u001b[38;5;241m=\u001b[39m \u001b[38;5;28mint\u001b[39m(\u001b[38;5;28minput\u001b[39m(\u001b[38;5;124m\"\u001b[39m\u001b[38;5;124mIngrese el mes (mm): \u001b[39m\u001b[38;5;124m\"\u001b[39m))\n\u001b[0;32m     25\u001b[0m anio \u001b[38;5;241m=\u001b[39m \u001b[38;5;28mint\u001b[39m(\u001b[38;5;28minput\u001b[39m(\u001b[38;5;124m\"\u001b[39m\u001b[38;5;124mIngrese el año (aaaa): \u001b[39m\u001b[38;5;124m\"\u001b[39m))\n\u001b[1;32m---> 26\u001b[0m dia_s, mes_s, anio_s \u001b[38;5;241m=\u001b[39m \u001b[43mdia_siguiente\u001b[49m\u001b[43m(\u001b[49m\u001b[43mdia\u001b[49m\u001b[43m,\u001b[49m\u001b[43m \u001b[49m\u001b[43mmes\u001b[49m\u001b[43m,\u001b[49m\u001b[43m \u001b[49m\u001b[43manio\u001b[49m\u001b[43m)\u001b[49m\n\u001b[0;32m     27\u001b[0m \u001b[38;5;28mprint\u001b[39m(\u001b[38;5;124mf\u001b[39m\u001b[38;5;124m\"\u001b[39m\u001b[38;5;124mLa fecha del día siguiente es: \u001b[39m\u001b[38;5;132;01m{\u001b[39;00mdia_s\u001b[38;5;132;01m}\u001b[39;00m\u001b[38;5;124m/\u001b[39m\u001b[38;5;132;01m{\u001b[39;00mmes_s\u001b[38;5;132;01m}\u001b[39;00m\u001b[38;5;124m/\u001b[39m\u001b[38;5;132;01m{\u001b[39;00manio_s\u001b[38;5;132;01m}\u001b[39;00m\u001b[38;5;124m\"\u001b[39m)\n\u001b[0;32m     28\u001b[0m continuar \u001b[38;5;241m=\u001b[39m \u001b[38;5;28minput\u001b[39m(\u001b[38;5;124m\"\u001b[39m\u001b[38;5;124m¿Desea calcular otra fecha? (s/n): \u001b[39m\u001b[38;5;124m\"\u001b[39m)\u001b[38;5;241m.\u001b[39mlower()\n",
      "Cell \u001b[1;32mIn[1], line 14\u001b[0m, in \u001b[0;36mdia_siguiente\u001b[1;34m(dia, mes, anio)\u001b[0m\n\u001b[0;32m     12\u001b[0m dias_en_mes \u001b[38;5;241m=\u001b[39m [\u001b[38;5;241m31\u001b[39m, \u001b[38;5;241m29\u001b[39m \u001b[38;5;28;01mif\u001b[39;00m es_bisiesto(anio) \u001b[38;5;28;01melse\u001b[39;00m \u001b[38;5;241m28\u001b[39m, \u001b[38;5;241m31\u001b[39m, \u001b[38;5;241m30\u001b[39m, \u001b[38;5;241m31\u001b[39m, \u001b[38;5;241m30\u001b[39m, \u001b[38;5;241m31\u001b[39m, \u001b[38;5;241m31\u001b[39m, \u001b[38;5;241m30\u001b[39m, \u001b[38;5;241m31\u001b[39m, \u001b[38;5;241m30\u001b[39m, \u001b[38;5;241m31\u001b[39m]\n\u001b[0;32m     13\u001b[0m dia \u001b[38;5;241m+\u001b[39m\u001b[38;5;241m=\u001b[39m \u001b[38;5;241m1\u001b[39m\n\u001b[1;32m---> 14\u001b[0m \u001b[38;5;28;01mif\u001b[39;00m dia \u001b[38;5;241m>\u001b[39m \u001b[43mdias_en_mes\u001b[49m\u001b[43m[\u001b[49m\u001b[43mmes\u001b[49m\u001b[43m \u001b[49m\u001b[38;5;241;43m-\u001b[39;49m\u001b[43m \u001b[49m\u001b[38;5;241;43m1\u001b[39;49m\u001b[43m]\u001b[49m:\n\u001b[0;32m     15\u001b[0m     dia \u001b[38;5;241m=\u001b[39m \u001b[38;5;241m1\u001b[39m\n\u001b[0;32m     16\u001b[0m     mes \u001b[38;5;241m+\u001b[39m\u001b[38;5;241m=\u001b[39m \u001b[38;5;241m1\u001b[39m\n",
      "\u001b[1;31mIndexError\u001b[0m: list index out of range"
     ]
    }
   ],
   "source": [
    "def es_bisiesto(año):\n",
    "    if año % 400 == 0:\n",
    "        return True\n",
    "    elif año % 100 == 0:\n",
    "        return False\n",
    "    elif año % 4 == 0:\n",
    "        return True\n",
    "    else:\n",
    "        return False\n",
    "\n",
    "def dia_siguiente(dia, mes, año):\n",
    "    dias_en_mes = [31, 29 if es_bisiesto(año) else 28, 31, 30, 31, 30, 31, 31, 30, 31, 30, 31]\n",
    "    dia += 1\n",
    "    if dia > dias_en_mes[mes - 1]:\n",
    "        dia = 1\n",
    "        mes += 1\n",
    "        if mes > 12:\n",
    "            mes = 1\n",
    "            año += 1\n",
    "    return dia, mes, año\n",
    "def calcular_fecha():\n",
    "    while True:\n",
    "        dia = int(input(\"Ingrese el día (dd): \"))\n",
    "        mes = int(input(\"Ingrese el mes (mm): \"))\n",
    "        año = int(input(\"Ingrese el año (aaaa): \"))\n",
    "        dia_s, mes_s, año_s = dia_siguiente(dia, mes, año)\n",
    "        print(f\"La fecha del día siguiente es: {dia_s}/{mes_s}/{año_s}\")\n",
    "        continuar = input(\"¿Desea calcular otra fecha? (s/n): \").lower()\n",
    "        if continuar != 's':\n",
    "            print(\"¡Adiós!\")\n",
    "            break\n",
    "calcular_fecha()\n"
   ]
  }
 ],
 "metadata": {
  "kernelspec": {
   "display_name": "Python 3",
   "language": "python",
   "name": "python3"
  },
  "language_info": {
   "codemirror_mode": {
    "name": "ipython",
    "version": 3
   },
   "file_extension": ".py",
   "mimetype": "text/x-python",
   "name": "python",
   "nbconvert_exporter": "python",
   "pygments_lexer": "ipython3",
   "version": "3.12.5"
  }
 },
 "nbformat": 4,
 "nbformat_minor": 2
}
