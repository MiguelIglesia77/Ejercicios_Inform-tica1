{
 "cells": [
  {
   "cell_type": "code",
   "execution_count": 14,
   "metadata": {},
   "outputs": [
    {
     "name": "stdout",
     "output_type": "stream",
     "text": [
      "[['Sofia Isabel Marcano Posada', '1020111921', 17, 'Salud Total'], ['Michel ', '1077158963', 18, 'Salud Total'], ['Daniel', '15618156456', 17, 'mxcn'], ['Maria Paula Valderrama', '1518156465', 17, 'dmadnsa']]\n"
     ]
    }
   ],
   "source": [
    "Historia_Clínica_Electrónica=[]\n",
    "for i in range (0,1123):\n",
    "    pac=[]\n",
    "    pac.append(input(\"Ingrese el nombre del paciente: \"))\n",
    "    pac.append(input(\"Ingrese la identificación del paciente: \"))\n",
    "    pac.append(int(input(\"Ingrese la edad del paciente: \")))\n",
    "    pac.append(input(\"Ingrese la eps del paciente\"))\n",
    "    Historia_Clínica_Electrónica.append(pac)\n",
    "    Z= input(\"¿Quiere añadir otro paciente? (s/n): \")\n",
    "    if Z==\"n\":\n",
    "        print(Historia_Clínica_Electrónica)\n",
    "        break\n",
    "    else:\n",
    "        continue"
   ]
  },
  {
   "cell_type": "code",
   "execution_count": null,
   "metadata": {},
   "outputs": [],
   "source": []
  }
 ],
 "metadata": {
  "kernelspec": {
   "display_name": "Python 3",
   "language": "python",
   "name": "python3"
  },
  "language_info": {
   "codemirror_mode": {
    "name": "ipython",
    "version": 3
   },
   "file_extension": ".py",
   "mimetype": "text/x-python",
   "name": "python",
   "nbconvert_exporter": "python",
   "pygments_lexer": "ipython3",
   "version": "3.12.5"
  }
 },
 "nbformat": 4,
 "nbformat_minor": 2
}
