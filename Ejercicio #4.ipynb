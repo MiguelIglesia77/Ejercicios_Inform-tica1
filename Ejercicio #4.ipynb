{
 "cells": [
  {
   "cell_type": "code",
   "execution_count": 5,
   "metadata": {},
   "outputs": [
    {
     "name": "stdout",
     "output_type": "stream",
     "text": [
      "21\n"
     ]
    }
   ],
   "source": [
    "X= int(input(\"Digite un número entero: \"))\n",
    "n= int(input(\"Digite el número por el cual quiere multiplicar: \"))\n",
    "Y=0\n",
    "Resultado=0\n",
    "while Y<n:\n",
    "    Resultado+=X\n",
    "    Y+=1\n",
    "print(Resultado)"
   ]
  },
  {
   "cell_type": "code",
   "execution_count": 10,
   "metadata": {},
   "outputs": [
    {
     "name": "stdout",
     "output_type": "stream",
     "text": [
      "3.0\n"
     ]
    }
   ],
   "source": [
    "Nn=int(input(\"ingrese el número de notas: \"))\n",
    "Promedio=0\n",
    "Y=0\n",
    "while Y<Nn:\n",
    "    Promedio+=float(input(\"Ingrese su nota evaluada del 0 al 5: \"))\n",
    "    Y+=1\n",
    "    if Y==Nn:\n",
    "        print(Promedio/Nn)"
   ]
  },
  {
   "cell_type": "code",
   "execution_count": 14,
   "metadata": {},
   "outputs": [
    {
     "name": "stdout",
     "output_type": "stream",
     "text": [
      "El resultado de la potencia es 0\n",
      "El resultado de la potencia es 1\n",
      "El resultado de la potencia es 512\n",
      "El resultado de la potencia es 19683\n",
      "El resultado de la potencia es 262144\n",
      "El resultado de la potencia es 1953125\n",
      "El resultado de la potencia es 10077696\n",
      "El resultado de la potencia es 40353607\n",
      "El resultado de la potencia es 134217728\n",
      "El resultado de la potencia es 387420489\n"
     ]
    }
   ],
   "source": [
    "n=int(input(\"Ingrese el número de su base del 0-9: \"))\n",
    "X=int(input(\"Ingrese el número de su potencia del 0-9: \"))\n",
    "if 0<=n<=9 and 0<=X<=9:\n",
    "    i=0\n",
    "    while i<=n:\n",
    "        Z= i**X\n",
    "        print(\"El resultado de la potencia es {z}\".format(z=Z))\n",
    "        i+=1\n",
    "else:\n",
    "    print(\"Los números que ingresó no están en el rango\")\n"
   ]
  },
  {
   "cell_type": "code",
   "execution_count": 22,
   "metadata": {},
   "outputs": [
    {
     "name": "stdout",
     "output_type": "stream",
     "text": [
      "El resultado de la suma de los números impares comprendidos entre 1 y 2 es: 1\n",
      "El resultado de la suma de los números impares comprendidos entre 1 y 4 es: 4\n",
      "El resultado de la suma de los números impares comprendidos entre 1 y 6 es: 9\n",
      "El resultado de la suma de los números impares comprendidos entre 1 y 8 es: 16\n"
     ]
    }
   ],
   "source": [
    "N=int(input(\"Ingrese el número hasta el que desea sumar: \"))\n",
    "Y=1\n",
    "Resultado=0\n",
    "while Y<=N:\n",
    "    if Y%2!=0:\n",
    "        Resultado+=Y\n",
    "        Y+=1\n",
    "        print(\"El resultado de la suma de los números impares comprendidos entre 1 y {y} es: {r}\".format(y=Y,r=Resultado))\n",
    "    else:\n",
    "        Y+=1\n"
   ]
  },
  {
   "cell_type": "code",
   "execution_count": 53,
   "metadata": {},
   "outputs": [
    {
     "name": "stdout",
     "output_type": "stream",
     "text": [
      "El factorial de 7 es igual a: 5040\n",
      "Por favor, ingrese un número entre 0 y 20.\n",
      "Por favor, ingrese un número entre 0 y 20.\n",
      "El factorial de 10 es igual a: 3628800\n"
     ]
    }
   ],
   "source": [
    "while True:\n",
    "    try:\n",
    "        X = input(\"Ingrese un número del 0 al 20 al cual quiere calcular su factorial: \")\n",
    "\n",
    "        if not X.strip():\n",
    "            print(\"No ingresó ningún valor. Por favor, intente de nuevo.\")\n",
    "            continue\n",
    "        \n",
    "        X = int(X) \n",
    "\n",
    "        if X < 0 or X > 20:\n",
    "            print(\"Por favor, ingrese un número entre 0 y 20.\")\n",
    "            continue\n",
    "        \n",
    "        fact = 1\n",
    "        for i in range(1, X + 1):\n",
    "            fact *= i\n",
    "        \n",
    "        print(f\"El factorial de {X} es igual a: {fact}\")\n",
    "        \n",
    "        Z = input(\"El proceso ha terminado. \\n¿Quiere calcular otro factorial? (s/n): \")\n",
    "        if Z.lower() == \"n\":\n",
    "            break\n",
    "\n",
    "    except ValueError:\n",
    "        print(\"Entrada no válida. Asegúrese de ingresar un número entero.\")"
   ]
  },
  {
   "cell_type": "code",
   "execution_count": 64,
   "metadata": {},
   "outputs": [
    {
     "name": "stdout",
     "output_type": "stream",
     "text": [
      "El valor de la sumatoria total es igual a: 0.4444444444444444\n"
     ]
    }
   ],
   "source": [
    "i=1\n",
    "a=int(input(\"ingrese el valor por el que quiere dividir a 1: \"))\n",
    "n=int(input(\"Ingrese el máximo exponente que quiere: \"))\n",
    "Resultado=0\n",
    "contador=0\n",
    "while contador<=n:\n",
    "    Resultado+=((1/a)**i)\n",
    "    i+=1\n",
    "    contador+=1\n",
    "    if contador==n:\n",
    "        print(\"El valor de la sumatoria total es igual a: {R}\".format(R=Resultado))"
   ]
  },
  {
   "cell_type": "code",
   "execution_count": null,
   "metadata": {},
   "outputs": [],
   "source": []
  }
 ],
 "metadata": {
  "kernelspec": {
   "display_name": "Python 3",
   "language": "python",
   "name": "python3"
  },
  "language_info": {
   "codemirror_mode": {
    "name": "ipython",
    "version": 3
   },
   "file_extension": ".py",
   "mimetype": "text/x-python",
   "name": "python",
   "nbconvert_exporter": "python",
   "pygments_lexer": "ipython3",
   "version": "3.12.5"
  }
 },
 "nbformat": 4,
 "nbformat_minor": 2
}
